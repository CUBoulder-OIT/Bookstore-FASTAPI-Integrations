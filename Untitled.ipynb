{
 "cells": [
  {
   "cell_type": "code",
   "execution_count": 1,
   "id": "3b18ce39-cdf3-4a33-a031-1844c5fd0f8e",
   "metadata": {},
   "outputs": [],
   "source": [
    "import time"
   ]
  },
  {
   "cell_type": "code",
   "execution_count": 3,
   "id": "0e40f96a-c747-471e-bc67-9369434c1e80",
   "metadata": {},
   "outputs": [],
   "source": [
    "start_time = time.time()"
   ]
  },
  {
   "cell_type": "code",
   "execution_count": 4,
   "id": "7cd58981-279f-4017-adbe-5190f9ef7899",
   "metadata": {},
   "outputs": [],
   "source": [
    "process_time = (time.time() - start_time) * 1000"
   ]
  },
  {
   "cell_type": "code",
   "execution_count": 21,
   "id": "75256c5e-c9d8-42f9-89ab-6f41e342a0f0",
   "metadata": {},
   "outputs": [
    {
     "data": {
      "text/plain": [
       "965.6069278717041"
      ]
     },
     "execution_count": 21,
     "metadata": {},
     "output_type": "execute_result"
    }
   ],
   "source": [
    "process_time"
   ]
  },
  {
   "cell_type": "code",
   "execution_count": 32,
   "id": "8e489e7d-cbd9-4f87-9601-2dabe8ada6ef",
   "metadata": {},
   "outputs": [],
   "source": [
    "formatted_process_time = \"{0:.2f}\".format(process_time)"
   ]
  },
  {
   "cell_type": "code",
   "execution_count": 33,
   "id": "fc600f2b-521f-4e82-9817-19bb371e5ded",
   "metadata": {},
   "outputs": [
    {
     "data": {
      "text/plain": [
       "'965.61'"
      ]
     },
     "execution_count": 33,
     "metadata": {},
     "output_type": "execute_result"
    }
   ],
   "source": [
    "formatted_process_time"
   ]
  },
  {
   "cell_type": "code",
   "execution_count": 29,
   "id": "3b738aa3-3252-465f-b419-57c2a82f1ba6",
   "metadata": {},
   "outputs": [
    {
     "data": {
      "text/plain": [
       "'965.6069278717041'"
      ]
     },
     "execution_count": 29,
     "metadata": {},
     "output_type": "execute_result"
    }
   ],
   "source": [
    "f'{process_time}'"
   ]
  },
  {
   "cell_type": "code",
   "execution_count": 11,
   "id": "4a6b7086-ac9a-4132-a0de-536022d12c60",
   "metadata": {},
   "outputs": [],
   "source": [
    "x = 3.14159265"
   ]
  },
  {
   "cell_type": "code",
   "execution_count": 12,
   "id": "19cbc134-d42e-4f9a-af82-4287bf748f8f",
   "metadata": {},
   "outputs": [
    {
     "name": "stdout",
     "output_type": "stream",
     "text": [
      "pi = 3.14\n"
     ]
    }
   ],
   "source": [
    "print('pi = %0.2f' %x)"
   ]
  },
  {
   "cell_type": "code",
   "execution_count": 19,
   "id": "238523af-58ab-4203-994a-39f81feacd31",
   "metadata": {},
   "outputs": [
    {
     "name": "stdout",
     "output_type": "stream",
     "text": [
      "pi = %0.2f\n"
     ]
    }
   ],
   "source": [
    "print(('pi = %0.2f').format(x))"
   ]
  },
  {
   "cell_type": "code",
   "execution_count": 13,
   "id": "db9040d3-ec24-4099-820f-eff3cdfae602",
   "metadata": {},
   "outputs": [
    {
     "name": "stdout",
     "output_type": "stream",
     "text": [
      "pi = 3.14\n"
     ]
    }
   ],
   "source": [
    "print(f'pi = {x:.2f}')"
   ]
  },
  {
   "cell_type": "code",
   "execution_count": null,
   "id": "7b2c9fb7-14f2-4d22-afca-98c3ea2b48dd",
   "metadata": {},
   "outputs": [],
   "source": []
  }
 ],
 "metadata": {
  "kernelspec": {
   "display_name": "Python 3 (ipykernel)",
   "language": "python",
   "name": "python3"
  },
  "language_info": {
   "codemirror_mode": {
    "name": "ipython",
    "version": 3
   },
   "file_extension": ".py",
   "mimetype": "text/x-python",
   "name": "python",
   "nbconvert_exporter": "python",
   "pygments_lexer": "ipython3",
   "version": "3.8.13"
  }
 },
 "nbformat": 4,
 "nbformat_minor": 5
}
